{
  "cells": [
    {
      "cell_type": "markdown",
      "metadata": {
        "id": "view-in-github",
        "colab_type": "text"
      },
      "source": [
        "<a href=\"https://colab.research.google.com/github/NavaSergio/TT/blob/main/Para%20python/Graficas/Grafica%20proyecciones%20poblacionales.ipynb\" target=\"_parent\"><img src=\"https://colab.research.google.com/assets/colab-badge.svg\" alt=\"Open In Colab\"/></a>"
      ]
    },
    {
      "cell_type": "markdown",
      "metadata": {
        "id": "9leF58DFaVqZ"
      },
      "source": [
        "# CONSTRUCCION DE INDICADORES REGIONALES\n",
        "## SESION 4\n",
        "PROYECCIONES POBLACIONALES Y GRAFICAS\n",
        "\n",
        "\n",
        "Primero cargamos las bibliotecas necesarias"
      ]
    },
    {
      "cell_type": "code",
      "execution_count": 1,
      "metadata": {
        "id": "iM1H6u48aVqb"
      },
      "outputs": [],
      "source": [
        "import pandas as pd\n",
        "import matplotlib.pyplot as plt\n",
        "import seaborn as sns\n",
        "from matplotlib.backends.backend_pdf import PdfPages\n"
      ]
    },
    {
      "cell_type": "markdown",
      "metadata": {
        "id": "dUrL_Gk9aVqc"
      },
      "source": [
        "Selecciona Directorio de trabajo. No es necesario si los datos están en la misma ruta que el portafolio. En el caso de colab recuerde que debe subir el archivo de datos. También llenaremos los valores faltantes con 0's y cambiaremos a categorías las variables Año y Sector."
      ]
    },
    {
      "cell_type": "code",
      "execution_count": 2,
      "metadata": {
        "id": "fPpKreeAaVqc"
      },
      "outputs": [],
      "source": [
        "\n",
        "# Cargar datos de proyecciones poblacionales\n",
        "proyeccion = pd.read_excel(\"Proyecciones poblacionales 2024_2035.xlsx\", sheet_name=\"Sheet1\")\n",
        "\n",
        "# Convertir columnas de tipo texto a categórico\n",
        "proyeccion = proyeccion.astype({col: \"category\" for col in proyeccion.select_dtypes(\"object\").columns})\n"
      ]
    },
    {
      "cell_type": "code",
      "execution_count": 3,
      "metadata": {
        "id": "Jh-gFsrGaVqd"
      },
      "outputs": [],
      "source": [
        "\n",
        "# Cambiar formato a largo\n",
        "proy_long = pd.melt(\n",
        "    proyeccion,\n",
        "    id_vars=[\"CV_ENT\", \"Entidad\"],\n",
        "    value_vars=[col for col in proyeccion.columns if \"Hombres\" in col or \"Mujeres\" in col or  \"Total\" in col],\n",
        "    var_name=\"Año_sexo\",\n",
        "    value_name=\"Poblacion\",\n",
        ")\n",
        "\n",
        "\n",
        "# Separar columna Año_sexo en Sexo y Año\n",
        "proy_long[[\"Sexo\", \"Año\"]] = proy_long[\"Año_sexo\"].str.split(\"_\", expand=True)\n",
        "\n",
        "# Convertir columnas relevantes a categóricas\n",
        "proy_long = proy_long.astype({\"Sexo\": \"category\", \"Año\": \"category\", \"Entidad\": \"category\", \"CV_ENT\": \"category\"})\n"
      ]
    },
    {
      "cell_type": "code",
      "execution_count": 4,
      "metadata": {
        "id": "zksfG_EcaVqd"
      },
      "outputs": [],
      "source": [
        "\n",
        "# Agrupar datos por estado, año y sexo\n",
        "proy_estatal = (\n",
        "    proy_long.groupby([\"CV_ENT\", \"Entidad\", \"Año\", \"Sexo\"], observed=False)\n",
        "    .agg(Pob_Est=(\"Poblacion\", \"sum\"), Pob_prom=(\"Poblacion\", \"mean\"), desvstd=(\"Poblacion\", \"std\"))\n",
        "    .reset_index()\n",
        ")\n",
        "\n",
        "# Generar identificador numérico para cada estado\n",
        "proy_estatal[\"i\"] = proy_estatal[\"CV_ENT\"].cat.codes + 1\n",
        "\n",
        "\n",
        "# Etiquetas de entidades\n",
        "labels_entidad = [\n",
        "    \"Aguascalientes\", \"Baja California\", \"Baja California Sur\", \"Campeche\",\n",
        "    \"Coahuila de Zaragoza\", \"Colima\", \"Chiapas\", \"Chihuahua\", \"Ciudad de México\",\n",
        "    \"Durango\", \"Guanajuato\", \"Guerrero\", \"Hidalgo\", \"Jalisco\", \"México\",\n",
        "    \"Michoacán de Ocampo\", \"Morelos\", \"Nayarit\", \"Nuevo León\", \"Oaxaca\", \"Puebla\",\n",
        "    \"Querétaro\", \"Quintana Roo\", \"San Luis Potosí\", \"Sinaloa\", \"Sonora\", \"Tabasco\",\n",
        "    \"Tamaulipas\", \"Tlaxcala\", \"Veracruz de Ignacio de la Llave\", \"Yucatán\", \"Zacatecas\"\n",
        "]\n"
      ]
    },
    {
      "cell_type": "code",
      "execution_count": 7,
      "metadata": {
        "id": "Jl99pYb2aVqe"
      },
      "outputs": [],
      "source": [
        "\n",
        "# Crear el archivo PDF\n",
        "output_file = \"ProyeccionPob_Todos_py.pdf\"\n",
        "\n",
        "# Lista de colores y marcadores ajustada al número de categorías en \"Sexo\"\n",
        "palette = [\"magenta\", \"blue\", \"green\"]  # Dos colores\n",
        "markers = [\"o\", \"s\", \"d\"]           # Dos marcadores\n",
        "\n",
        "# Generar las gráficas para cada estado\n",
        "\n",
        "\n",
        "with PdfPages(output_file) as pdf:\n",
        "    for j in range(1, 33):  # 32 estados\n",
        "        data = proy_estatal[proy_estatal[\"i\"] == j]\n",
        "        plt.figure(figsize=(11, 8))\n",
        "        sns.lineplot(\n",
        "            data=data,\n",
        "            x=\"Año\", y=\"Pob_Est\", hue=\"Sexo\", style=\"Sexo\",\n",
        "            markers=markers, palette=palette,  errorbar=None\n",
        "        )\n",
        "        plt.title(f\"Proyección de la población de 17 a 19 años \\n{labels_entidad[j-1]}\")\n",
        "        plt.xlabel(\"Año\")\n",
        "        plt.ylabel(\"Población\")\n",
        "        plt.grid(False)\n",
        "        plt.legend(title=\"Sexo\")\n",
        "        pdf.savefig()\n",
        "        plt.close()\n"
      ]
    }
  ],
  "metadata": {
    "language_info": {
      "name": "python"
    },
    "colab": {
      "provenance": [],
      "include_colab_link": true
    },
    "kernelspec": {
      "name": "python3",
      "display_name": "Python 3"
    }
  },
  "nbformat": 4,
  "nbformat_minor": 0
}