{
  "cells": [
    {
      "cell_type": "markdown",
      "metadata": {
        "id": "view-in-github",
        "colab_type": "text"
      },
      "source": [
        "<a href=\"https://colab.research.google.com/github/NavaSergio/TT/blob/main/Para%20python/Sesion%201/Sesion1_1.ipynb\" target=\"_parent\"><img src=\"https://colab.research.google.com/assets/colab-badge.svg\" alt=\"Open In Colab\"/></a>"
      ]
    },
    {
      "cell_type": "markdown",
      "source": [
        "# CONSTRUCCION DE INDICADORES REGIONALES\n",
        "\n",
        "## Sesión 1.1\n",
        "PORCENTAJE DE PARTICIPACION ESTATAL Y SECTORIAL, COEFICIENTE DE LOCALIZACION"
      ],
      "metadata": {
        "id": "e7SjYVg-aDu1"
      },
      "id": "e7SjYVg-aDu1"
    },
    {
      "cell_type": "markdown",
      "source": [
        "Primero cargamos las bibliotecas necesarias"
      ],
      "metadata": {
        "id": "F550Bq4Mag1M"
      },
      "id": "F550Bq4Mag1M"
    },
    {
      "cell_type": "code",
      "source": [
        "import pandas as pd\n",
        "import numpy as np\n",
        "from openpyxl import Workbook\n",
        "import matplotlib.pyplot as plt\n",
        "from matplotlib.backends.backend_pdf import PdfPages\n"
      ],
      "metadata": {
        "id": "WDal-2AwalEi"
      },
      "id": "WDal-2AwalEi",
      "execution_count": 2,
      "outputs": []
    },
    {
      "cell_type": "markdown",
      "source": [
        "Selecciona Directorio de trabajo. No es necesario si los datos están  en la misma ruta que el portafolio. En el caso de colab recuerde que debe subir el archivo de datos. También llenaremos los valores faltantes con 0's y cambiaremos a categorías las variables Año y Sector."
      ],
      "metadata": {
        "id": "clj8OdyAa4U2"
      },
      "id": "clj8OdyAa4U2"
    },
    {
      "cell_type": "code",
      "source": [
        "\n",
        "# Cargar archivo Excel\n",
        "matriz = pd.read_excel(\"Modif base total secre.xlsx\")\n",
        "\n",
        "\n",
        "# Convertir valores vacíos a 0\n",
        "matriz.fillna(0, inplace=True)\n",
        "\n",
        "\n",
        "# Convertir variables categóricas a factores\n",
        "matriz['Año'] = matriz['Año'].astype('category')\n",
        "matriz['Sector'] = matriz['Sector'].astype('category')\n",
        "matriz['No_sector'] = matriz['No_sector'].apply(lambda x: str(x).zfill(2))"
      ],
      "metadata": {
        "id": "Zb0myszmbl_o"
      },
      "id": "Zb0myszmbl_o",
      "execution_count": 3,
      "outputs": []
    },
    {
      "cell_type": "code",
      "source": [
        "\n",
        "# Filtrar datos estatales-sectoriales\n",
        "matriz_est = matriz[matriz['No_sector'] != \"01\"].copy()\n",
        "matriz_est1 = matriz_est.loc[:,matriz_est.columns != \"TOTAL SECTORIAL\"].copy()\n",
        "\n",
        "matriz_total_est = matriz[matriz['No_sector'] == \"01\"].copy()\n",
        "matriz_total_sect = matriz[['Año', 'No_sector', 'Sector', 'TOTAL SECTORIAL']].copy()\n",
        "\n",
        "# Convertir formato largo\n",
        "matriz_est_long = pd.melt(matriz_est1,\n",
        "                          id_vars=['Año', 'Sector', 'No_sector'],\n",
        "                          var_name='CVE_ENT',\n",
        "                          value_name='Pers_ocup')\n",
        "\n",
        "# Ordenar por 'Año', 'No_sector' y 'CVE_ENT'\n",
        "matriz_est_long = matriz_est_long.sort_values(by=['Año', 'No_sector', 'CVE_ENT']).reset_index(drop=True)\n"
      ],
      "metadata": {
        "id": "fjnNsb8vb35C"
      },
      "id": "fjnNsb8vb35C",
      "execution_count": 4,
      "outputs": []
    },
    {
      "cell_type": "code",
      "source": [
        "\n",
        "\n",
        "# Calcular porcentaje de participación estatal por sector\n",
        "particip_est = matriz_est_long.copy()\n",
        "\n",
        "\n",
        "\n",
        "particip_est['share_est'] = particip_est.groupby(['Año', 'Sector'], observed=False)['Pers_ocup'].transform(\n",
        "    lambda x: round(100 * x / x.sum(), 2)\n",
        ")\n",
        "\n",
        "\n",
        "matriz_totest_long = (\n",
        "    matriz_total_est\n",
        "    .melt(id_vars=[\"Año\", \"No_sector\", \"Sector\"],\n",
        "          var_name=\"CVE_ENT\",\n",
        "          value_name=\"Pers_ocup\")\n",
        "    .query('CVE_ENT != \"TOTAL SECTORIAL\"')\n",
        ")\n",
        "\n",
        "\n",
        "\n",
        "\n",
        "particip_totest = (\n",
        "    matriz_totest_long\n",
        "    .groupby([\"Año\", \"Sector\"], observed=False)\n",
        "    .apply(lambda group: group.assign(\n",
        "        share_est=round(100 * group[\"Pers_ocup\"] / group[\"Pers_ocup\"].sum(), 2)\n",
        "    ))\n",
        "    .reset_index(drop=True)  # Restablece el índice\n",
        ")\n",
        "\n"
      ],
      "metadata": {
        "colab": {
          "base_uri": "https://localhost:8080/"
        },
        "id": "PQI1iT6Vb6xY",
        "outputId": "eb4b45ca-9180-442b-edb7-bc4f15485772"
      },
      "id": "PQI1iT6Vb6xY",
      "execution_count": 5,
      "outputs": [
        {
          "output_type": "stream",
          "name": "stderr",
          "text": [
            "<ipython-input-5-4dea8497d058>:25: DeprecationWarning: DataFrameGroupBy.apply operated on the grouping columns. This behavior is deprecated, and in a future version of pandas the grouping columns will be excluded from the operation. Either pass `include_groups=False` to exclude the groupings or explicitly select the grouping columns after groupby to silence this warning.\n",
            "  .apply(lambda group: group.assign(\n"
          ]
        }
      ]
    },
    {
      "cell_type": "code",
      "source": [
        "\n",
        "# Convertir formato ancho\n",
        "participest_wider = particip_est.pivot(index=['Año', 'No_sector', 'Sector'],\n",
        "                                        columns='CVE_ENT',\n",
        "                                        values=['Pers_ocup', 'share_est']).reset_index()\n",
        "\n",
        "participtotest_wider = particip_totest.pivot(\n",
        "    index=['Año', 'Sector', 'No_sector'],  # Columnas que permanecen como índice\n",
        "    columns='CVE_ENT',                     # Columnas a expandir\n",
        "    values=['Pers_ocup', 'share_est']      # Columnas cuyos valores se usan\n",
        ").reset_index()\n",
        "\n",
        "\n",
        "\n",
        "# Verificación de sumas de participación\n",
        "verifica = participest_wider.filter(like='share_est').sum(axis=1)\n",
        "print(verifica)\n"
      ],
      "metadata": {
        "colab": {
          "base_uri": "https://localhost:8080/"
        },
        "id": "a0EnK5ozcAyF",
        "outputId": "9591fb06-aafd-49f0-85c8-7da684026593"
      },
      "id": "a0EnK5ozcAyF",
      "execution_count": 6,
      "outputs": [
        {
          "output_type": "stream",
          "name": "stdout",
          "text": [
            "0     100.00\n",
            "1     100.00\n",
            "2     100.02\n",
            "3     100.00\n",
            "4      99.99\n",
            "5      99.98\n",
            "6      99.99\n",
            "7     100.01\n",
            "8     100.00\n",
            "9     100.03\n",
            "10     99.99\n",
            "11     99.98\n",
            "12     99.99\n",
            "13    100.01\n",
            "14     99.97\n",
            "15    100.02\n",
            "16    100.00\n",
            "17    100.01\n",
            "18    100.01\n",
            "19    100.01\n",
            "20     99.97\n",
            "21    100.01\n",
            "22    100.01\n",
            "23    100.01\n",
            "24    100.00\n",
            "25     99.98\n",
            "26    100.00\n",
            "27    100.00\n",
            "28     99.99\n",
            "29    100.01\n",
            "30    100.00\n",
            "31    100.00\n",
            "32     99.97\n",
            "33    100.03\n",
            "34    100.01\n",
            "35     99.96\n",
            "36    100.00\n",
            "37     99.99\n",
            "dtype: float64\n"
          ]
        }
      ]
    },
    {
      "cell_type": "code",
      "source": [
        "\n",
        "\n",
        "# Calcular participación sectorial por estado\n",
        "particip_sect = matriz_est_long.copy()\n",
        "particip_sect['share_sect'] = particip_sect.groupby(['Año', 'CVE_ENT'], observed=False)['Pers_ocup'].transform(lambda x: round(100 * x / x.sum(), 2))\n",
        "\n",
        "# Ordenar el archivo de participación sectorial\n",
        "#particip_sect = particip_sect.sort_values(by=['CVE_ENT', 'Año', 'No_sector']).reset_index(drop=True)\n",
        "\n",
        "# Verificar la contribución sectorial\n",
        "verif_part_sect = (\n",
        "    particip_sect\n",
        "    .groupby(['Año', 'CVE_ENT'], as_index=False, observed=False)\n",
        "    .agg(verifica=('share_sect', 'sum'))\n",
        ")\n",
        "\n",
        "# Ordenar el DataFrame de verificación\n",
        "verif_part_sect = verif_part_sect.sort_values(by=['Año', 'CVE_ENT']).reset_index(drop=True)\n"
      ],
      "metadata": {
        "id": "U24b5wQTcD0h"
      },
      "id": "U24b5wQTcD0h",
      "execution_count": 7,
      "outputs": []
    },
    {
      "cell_type": "code",
      "source": [
        "\n",
        "# Filtrar matriz de totales sectoriales sin el total global\n",
        "matriz_totsect_long = matriz_total_sect[matriz_total_sect['No_sector'] != \"01\"].copy()\n",
        "\n",
        "# Calcular participación total de cada sector por año\n",
        "total = matriz_totsect_long.copy()\n",
        "total['gran_total'] = total.groupby('Año', observed=False)['TOTAL SECTORIAL'].transform('sum')\n",
        "\n",
        "\n",
        "\n",
        " # calcula la participacion total de cada sector por año\n",
        "particip_totsect = (\n",
        "    total\n",
        "    .assign(share_sect=lambda df: round(100 * df[\"TOTAL SECTORIAL\"] / df[\"gran_total\"], 2))\n",
        ")\n",
        "# verifica que la suma de participaciones sea 100. La variación es por redondeos.\n",
        "verif_totsect = (\n",
        "    particip_totsect\n",
        "    .groupby(\"Año\", as_index=False, observed=False)\n",
        "    .agg(verifica=(\"share_sect\", \"sum\"))\n",
        ")\n"
      ],
      "metadata": {
        "id": "C_cs8ja-cKOk"
      },
      "id": "C_cs8ja-cKOk",
      "execution_count": 8,
      "outputs": []
    },
    {
      "cell_type": "code",
      "source": [
        "\n",
        "participsect_wider = particip_sect.pivot(\n",
        "    index=[\"Año\", \"Sector\", \"No_sector\"],  # Columnas que permanecen como índice\n",
        "    columns=\"CVE_ENT\",                     # Nombres de las nuevas columnas\n",
        "    values=[\"Pers_ocup\", \"share_sect\"]     # Valores que se distribuyen en las nuevas columnas\n",
        ").reset_index()\n",
        "\n",
        "# Selecciona las columnas correspondientes de cada DataFrame\n",
        "participest_subset = participest_wider.iloc[:, [0, 1, 2] + list(range(35, 67))]\n",
        "participtotest_subset = participtotest_wider.iloc[:, [0, 1, 2] + list(range(35, 67))]\n",
        "\n",
        "# Une por renglones (concatena los DataFrames)\n",
        "tabla_share_est = pd.concat([participest_subset, participtotest_subset], ignore_index=True)\n",
        "\n",
        "#cambia nombres de columnas por nombres de los estados\n",
        "tabla_share_est.columns = [\n",
        "    \"Año\", \"No_sector\", \"Sector\", \"Aguascalientes\", \"Baja California\",\n",
        "    \"Baja California Sur\", \"Campeche\", \"Coahuila\", \"Colima\", \"Chiapas\",\n",
        "    \"Chihuahua\", \"CDMX\", \"Durango\", \"Guanajuato\", \"Guerrero\", \"Hidalgo\",\n",
        "    \"Jalisco\", \"Mexico\", \"Michoacan\", \"Morelos\", \"Nayarit\", \"Nuevo Leon\",\n",
        "    \"Oaxaca\", \"Puebla\", \"Queretaro\", \"Quintana Roo\", \"San Luis Potosi\",\n",
        "    \"Sinaloa\", \"Sonora\", \"Tabasco\", \"Tamaulipas\", \"Tlaxcala\", \"Veracruz\",\n",
        "    \"Yucatan\", \"Zacatecas\"\n",
        "]\n",
        "  ## Guardar en archivo excel\n",
        " # deben tener instalado Java , pero no estoy segura si solo funciona en Mac\n",
        " # tambien pueden intentar instalar la  librería openxlsx\n",
        "tabla_share_est.to_excel(\"Participacion estatal.xlsx\", index=False)\n"
      ],
      "metadata": {
        "id": "jWwJCkz3dVGS"
      },
      "id": "jWwJCkz3dVGS",
      "execution_count": 10,
      "outputs": []
    },
    {
      "cell_type": "code",
      "source": [
        "\n",
        "\n",
        "# Paso 1: Regresa la base a formato ancho\n",
        "participsect_wider = particip_sect.pivot(\n",
        "    index=[\"Año\", \"Sector\", \"No_sector\"],\n",
        "    columns=\"CVE_ENT\",\n",
        "    values=[\"Pers_ocup\", \"share_sect\"]\n",
        ").reset_index()\n",
        "\n",
        "# Paso 2: Aplanar las columnas\n",
        "participsect_wider.columns = [\n",
        "    f\"{col[0]}_{col[1]}\" if col[1] else col[0] for col in participsect_wider.columns\n",
        "]\n",
        "\n",
        "# Paso 3: Selecciona las columnas deseadas\n",
        "# Selecciona las columnas necesarias de participsect_wider y particip_totsect\n",
        "participsect_subset = participsect_wider.iloc[:, [0, 1, 2] + list(range(35, 67))]\n",
        "participtotsect_subset = particip_totsect.iloc[:, [0, 1, 2, 5]]\n",
        "\n",
        "# Paso 4: Combina por columnas\n",
        "# Realiza la unión asegurando que las columnas [0, 1, 2] coincidan\n",
        "tabla_share_sect = pd.merge(\n",
        "    participsect_subset,\n",
        "    participtotsect_subset,\n",
        "    on=[\"Año\", \"Sector\", \"No_sector\"],  # Especifica las claves para la unión\n",
        "    how=\"inner\"  # Usa \"inner\" para incluir solo coincidencias exactas\n",
        ")\n",
        "\n",
        "# Paso 5: Ordena por año y sector\n",
        "tabla_share_sect = tabla_share_sect.sort_values(by=[\"Año\", \"No_sector\"]).reset_index(drop=True)\n",
        "\n",
        "# Paso 6: Cambia nombres de columnas\n",
        "tabla_share_sect.columns = [\n",
        "    \"Año\", \"No_sector\", \"Sector\", \"Aguascalientes\", \"Baja California\",\n",
        "    \"Baja California Sur\", \"Campeche\", \"Coahuila\", \"Colima\", \"Chiapas\",\n",
        "    \"Chihuahua\", \"CDMX\", \"Durango\", \"Guanajuato\", \"Guerrero\", \"Hidalgo\",\n",
        "    \"Jalisco\", \"Mexico\", \"Michoacan\", \"Morelos\", \"Nayarit\", \"Nuevo Leon\",\n",
        "    \"Oaxaca\", \"Puebla\", \"Queretaro\", \"Quintana Roo\", \"San Luis Potosi\",\n",
        "    \"Sinaloa\", \"Sonora\", \"Tabasco\", \"Tamaulipas\", \"Tlaxcala\", \"Veracruz\",\n",
        "    \"Yucatan\", \"Zacatecas\", \"Total sector\"\n",
        "]\n",
        "\n",
        "tabla_share_sect.to_excel(\"Participacion sectorial.xlsx\", index=False)\n"
      ],
      "metadata": {
        "id": "5hx9eHKMdZ5E"
      },
      "id": "5hx9eHKMdZ5E",
      "execution_count": 11,
      "outputs": []
    },
    {
      "cell_type": "markdown",
      "source": [
        "## 2a parte\n",
        "COEFICIENTE DE LOCALIZACION\n",
        "\n",
        "Primero creamos la función _locq_ para calcular el coeficiente de localización"
      ],
      "metadata": {
        "id": "TSbSVAQ4db5V"
      },
      "id": "TSbSVAQ4db5V"
    },
    {
      "cell_type": "code",
      "source": [
        "\n",
        "# Define la función locq\n",
        "def locq(local_values, total_local, global_values, total_global):\n",
        "    return (local_values / total_local) / (global_values / total_global)\n"
      ],
      "metadata": {
        "id": "Nx7fSO0KdzQM"
      },
      "id": "Nx7fSO0KdzQM",
      "execution_count": 12,
      "outputs": []
    },
    {
      "cell_type": "markdown",
      "source": [
        "Además definimos una función para crear los gráficos de _locq_\n"
      ],
      "metadata": {
        "id": "_WinaEhkeH3t"
      },
      "id": "_WinaEhkeH3t"
    },
    {
      "cell_type": "code",
      "source": [
        "\n",
        "def graficar_coeflocal(df, output_pdf=None):\n",
        "    \"\"\"\n",
        "    Genera un gráfico de barras por cada columna del DataFrame.\n",
        "    Incluye una línea roja en el valor 1.\n",
        "\n",
        "    Parámetros:\n",
        "    - df: DataFrame con las columnas a graficar y el índice como etiquetas.\n",
        "    - output_pdf: Ruta del archivo PDF donde guardar las gráficas. Si es None, se muestran en pantalla.\n",
        "    \"\"\"\n",
        "    # Si se proporciona una ruta para el PDF, lo abrimos\n",
        "    if output_pdf:\n",
        "        pdf = PdfPages(output_pdf)\n",
        "\n",
        "    for col in df.columns:\n",
        "        plt.figure(figsize=(10, 6))\n",
        "        plt.bar(df.index, df[col], color='skyblue', alpha=0.8)\n",
        "        plt.axhline(1, color='red', linestyle='--', linewidth=2)  # Línea roja en el valor 1\n",
        "        plt.title(f\"Gráfico de {col}\", fontsize=14)\n",
        "        plt.xlabel(\"Sectores\", fontsize=12)\n",
        "        plt.ylabel(\"Valor\", fontsize=12)\n",
        "        plt.xticks(df.index, rotation=45, ha='right', fontsize=10)\n",
        "        plt.tight_layout()\n",
        "\n",
        "        # Guardar en PDF o mostrar en pantalla\n",
        "        if output_pdf:\n",
        "            pdf.savefig()  # Guardar la figura en el PDF\n",
        "            plt.close()    # Cierra la figura para evitar sobrecargar memoria\n",
        "        else:\n",
        "            plt.show()\n",
        "\n",
        "    # Cierra el PDF si fue utilizado\n",
        "    if output_pdf:\n",
        "        pdf.close()\n",
        "        print(f\"Gráficos guardados en {output_pdf}\")\n"
      ],
      "metadata": {
        "id": "v2NPgLYDeN8A"
      },
      "id": "v2NPgLYDeN8A",
      "execution_count": 13,
      "outputs": []
    },
    {
      "cell_type": "code",
      "source": [
        "\n",
        "\n",
        "# Renombrar las columnas del DataFrame\n",
        "matriz.columns = [\n",
        "    \"Año\", \"No_sector\", \"Sector\", \"Aguascalientes\", \"Baja California\",\n",
        "    \"Baja California Sur\", \"Campeche\", \"Coahuila\", \"Colima\", \"Chiapas\",\n",
        "    \"Chihuahua\", \"CDMX\", \"Durango\", \"Guanajuato\", \"Guerrero\", \"Hidalgo\",\n",
        "    \"Jalisco\", \"Mexico\", \"Michoacan\", \"Morelos\", \"Nayarit\", \"Nuevo Leon\",\n",
        "    \"Oaxaca\", \"Puebla\", \"Queretaro\", \"Quintana Roo\", \"San Luis Potosi\",\n",
        "    \"Sinaloa\", \"Sonora\", \"Tabasco\", \"Tamaulipas\", \"Tlaxcala\", \"Veracruz\",\n",
        "    \"Yucatan\", \"Zacatecas\", \"Total_sectorial\"\n",
        "]\n"
      ],
      "metadata": {
        "id": "XLt6cCBkeS2i"
      },
      "id": "XLt6cCBkeS2i",
      "execution_count": 14,
      "outputs": []
    },
    {
      "cell_type": "markdown",
      "source": [
        "Para 2018"
      ],
      "metadata": {
        "id": "w2FYMr7deT3i"
      },
      "id": "w2FYMr7deT3i"
    },
    {
      "cell_type": "code",
      "source": [
        "\n",
        "# Para 2018\n",
        "coeflocal2018 = []\n",
        "\n",
        "for i in range(3, 35):  # Columnas 4 a 35 (índices 3 a 34)\n",
        "    coefloc = locq(\n",
        "        matriz.iloc[1:20, i].to_numpy(),  # Valores locales\n",
        "        matriz.iloc[0, i],               # Total local\n",
        "        matriz.iloc[1:20, 35].to_numpy(),# Valores globales\n",
        "        matriz.iloc[0, 35]               # Total global\n",
        "    )\n",
        "    coeflocal2018.append(coefloc)\n",
        "\n",
        "# Convertir coeflocal2018 en un DataFrame\n",
        "coeflocal2018 = pd.DataFrame(np.column_stack(coeflocal2018))\n",
        "coeflocal2018.columns = matriz.columns[3:35]  # Nombres de columnas (estados)\n",
        "coeflocal2018.index = matriz.iloc[1:20, 1].to_list()  # Nombres de renglones (sectores)\n",
        "\n",
        "# Uso con coeflocal2018\n",
        "graficar_coeflocal(coeflocal2018, output_pdf=\"coeflocal2018.pdf\")  # Guardar en PDF\n",
        "# graficar_coeflocal(coeflocal2018)  # Mostrar en pantalla\n"
      ],
      "metadata": {
        "colab": {
          "base_uri": "https://localhost:8080/"
        },
        "id": "v7vX-uoWefRQ",
        "outputId": "efc42b9f-f5ce-4689-beb0-4819103ba7f5"
      },
      "id": "v7vX-uoWefRQ",
      "execution_count": 15,
      "outputs": [
        {
          "output_type": "stream",
          "name": "stdout",
          "text": [
            "Gráficos guardados en coeflocal2018.pdf\n"
          ]
        }
      ]
    },
    {
      "cell_type": "markdown",
      "source": [
        "Para 2013"
      ],
      "metadata": {
        "id": "JzU6Nw9EegaI"
      },
      "id": "JzU6Nw9EegaI"
    },
    {
      "cell_type": "code",
      "source": [
        "\n",
        "# Para 2013\n",
        "coeflocal2013 = []\n",
        "\n",
        "for i in range(3, 35):  # Columnas 4 a 35 (índices 3 a 34)\n",
        "    coefloc = locq(\n",
        "        matriz.iloc[21:40, i].to_numpy(),  # Valores locales\n",
        "        matriz.iloc[20, i],               # Total local\n",
        "        matriz.iloc[21:40, 35].to_numpy(),# Valores globales\n",
        "        matriz.iloc[20, 35]               # Total global\n",
        "    )\n",
        "    coeflocal2013.append(coefloc)\n",
        "\n",
        "# Convertir coeflocal2013 en un DataFrame\n",
        "coeflocal2013 = pd.DataFrame(np.column_stack(coeflocal2013))\n",
        "coeflocal2013.columns = matriz.columns[3:35]  # Nombres de columnas (estados)\n",
        "coeflocal2013.index = matriz.iloc[21:40, 1].to_list()  # Nombres de renglones (sectores)\n",
        "\n",
        "\n",
        "# Uso con coeflocal2013\n",
        "graficar_coeflocal(coeflocal2013, output_pdf=\"coeflocal2013.pdf\")  # Guardar en PDF\n",
        "# graficar_coeflocal(coeflocal2013)  # Mostrar en pantalla\n",
        "\n"
      ],
      "metadata": {
        "colab": {
          "base_uri": "https://localhost:8080/"
        },
        "id": "3ihOogA6ek1O",
        "outputId": "1aa6bf0a-55e1-4aa5-cc3c-34f67c120912"
      },
      "id": "3ihOogA6ek1O",
      "execution_count": 16,
      "outputs": [
        {
          "output_type": "stream",
          "name": "stdout",
          "text": [
            "Gráficos guardados en coeflocal2013.pdf\n"
          ]
        }
      ]
    },
    {
      "cell_type": "markdown",
      "source": [
        "Ahora unimos ambos casos"
      ],
      "metadata": {
        "id": "TGfhKP1teoMi"
      },
      "id": "TGfhKP1teoMi"
    },
    {
      "cell_type": "code",
      "source": [
        "\n",
        "\n",
        "# Combina las matrices por filas\n",
        "coeflocal = pd.concat([coeflocal2018, coeflocal2013], axis=0)\n",
        "\n",
        "# Agrega nombres de renglón secuenciales\n",
        "coeflocal.index = range(1, len(coeflocal) + 1)\n",
        "\n",
        "# Agrega las columnas Año, No_sector y Sector\n",
        "coeflocal[\"Año\"] = matriz.loc[1:19, \"Año\"].to_list() + matriz.loc[21:39, \"Año\"].to_list()\n",
        "coeflocal[\"No_sector\"] = matriz.loc[1:19, \"No_sector\"].to_list() + matriz.loc[21:39, \"No_sector\"].to_list()\n",
        "coeflocal[\"Sector\"] = matriz.loc[1:19, \"Sector\"].to_list() + matriz.loc[21:39, \"Sector\"].to_list()\n",
        "\n",
        "# Cambia el orden de las columnas\n",
        "cols_order = [\"Año\", \"No_sector\", \"Sector\"] + coeflocal.columns[:-3].to_list()\n",
        "coeflocal = coeflocal[cols_order]\n",
        "\n",
        "print(coeflocal)"
      ],
      "metadata": {
        "colab": {
          "base_uri": "https://localhost:8080/"
        },
        "id": "wxZ8hGOpaKY5",
        "outputId": "c7b76826-444f-40aa-9b1a-b892c7708cb8"
      },
      "id": "wxZ8hGOpaKY5",
      "execution_count": 18,
      "outputs": [
        {
          "output_type": "stream",
          "name": "stdout",
          "text": [
            "     Año No_sector                                             Sector  \\\n",
            "1   2018        02  11. Agricultura, ganadería, aprovechamiento fo...   \n",
            "2   2018        03                                        21. Minería   \n",
            "3   2018        04  22. Electricidad, agua y suministro de gas por...   \n",
            "4   2018        05                                   23. Construcción   \n",
            "5   2018        06                    31-33. Industrias manufacturera   \n",
            "6   2018        07                          43. Comercio al por mayor   \n",
            "7   2018        08                          46. Comercio al por menor   \n",
            "8   2018        09       48-49. Transportes, correos y almacenamiento   \n",
            "9   2018        10                  51. Información en medios masivos   \n",
            "10  2018        11              52.Servicios financieros y de seguros   \n",
            "11  2018        12  53. Servicios inmobiliarios y de alquiler de b...   \n",
            "12  2018        13  54. Servicios profesionales, científicos y téc...   \n",
            "13  2018        14           55. Dirección de corporativos y empresas   \n",
            "14  2018        15  56. Servicios de apoyo a los negocios y manejo...   \n",
            "15  2018        16                           61. Servicios educativos   \n",
            "16  2018        17      62. Servicios de salud y de asistencia social   \n",
            "17  2018        18  71. Servicios de esparcimiento culturales y de...   \n",
            "18  2018        19  72. Servicios de alojamiento temporal y de pre...   \n",
            "19  2018        20   Otros servicios excepto actividades del gobierno   \n",
            "20  2013        02  11. Agricultura, ganadería, aprovechamiento fo...   \n",
            "21  2013        03                                        21. Minería   \n",
            "22  2013        04  22. Electricidad, agua y suministro de gas por...   \n",
            "23  2013        05                                   23. Construcción   \n",
            "24  2013        06                    31-33. Industrias manufacturera   \n",
            "25  2013        07                          43. Comercio al por mayor   \n",
            "26  2013        08                          46. Comercio al por menor   \n",
            "27  2013        09       48-49. Transportes, correos y almacenamiento   \n",
            "28  2013        10                  51. Información en medios masivos   \n",
            "29  2013        11              52.Servicios financieros y de seguros   \n",
            "30  2013        12  53. Servicios inmobiliarios y de alquiler de b...   \n",
            "31  2013        13  54. Servicios profesionales, científicos y téc...   \n",
            "32  2013        14           55. Dirección de corporativos y empresas   \n",
            "33  2013        15  56. Servicios de apoyo a los negocios y manejo...   \n",
            "34  2013        16                           61. Servicios educativos   \n",
            "35  2013        17      62. Servicios de salud y de asistencia social   \n",
            "36  2013        18  71. Servicios de esparcimiento culturales y de...   \n",
            "37  2013        19  72. Servicios de alojamiento temporal y de pre...   \n",
            "38  2013        20   Otros servicios excepto actividades del gobierno   \n",
            "\n",
            "    Aguascalientes  Baja California  Baja California Sur   Campeche  Coahuila  \\\n",
            "1         0.042555         0.815866             3.739037   6.458925  0.069644   \n",
            "2         1.261317         0.122548             2.494981  13.105809  2.457053   \n",
            "3         0.000000         0.000000             1.013784   0.000000  0.447036   \n",
            "4         1.170830         0.808936             2.023496   1.291536  1.106270   \n",
            "5         1.523674         1.748362             0.229130   0.396331  1.795316   \n",
            "6         1.039101         0.855544             0.908474   0.804119  0.694447   \n",
            "7         0.860105         0.772996             0.912036   1.068246  0.690329   \n",
            "8         0.833978         0.922593             0.981914   0.836746  0.812271   \n",
            "9         0.283016         0.431325             0.474885   0.699196  0.394111   \n",
            "10        0.263893         0.251581             0.192937   0.000000  0.457973   \n",
            "11        0.953188         0.933013             2.688283   1.780439  0.690731   \n",
            "12        0.964112         0.736362             0.864631   1.009513  0.605366   \n",
            "13        0.000000         0.000000             0.000000   0.000000  0.080336   \n",
            "14        0.712769         0.606738             0.960857   1.044216  1.214502   \n",
            "15        0.954419         0.878770             0.783419   0.864001  0.879982   \n",
            "16        1.073639         1.112013             0.877338   0.805109  0.787551   \n",
            "17        0.777325         1.028098             1.420858   0.821862  0.605365   \n",
            "18        0.876993         0.840681             2.727726   1.300533  0.571778   \n",
            "19        0.924357         0.961758             1.005212   1.207715  0.727183   \n",
            "20        0.045392         0.963903             5.145408   6.358035  0.053467   \n",
            "21        0.251189         0.064625             3.301328  11.972938  2.547166   \n",
            "22        0.512936         0.520504             1.009215   0.466872  0.455997   \n",
            "23        1.465961         0.816641             1.177329   2.029997  0.833170   \n",
            "24        1.381367         1.743953             0.299528   0.404849  1.729348   \n",
            "25        1.043160         0.838980             1.040095   0.774872  0.727018   \n",
            "26        0.912708         0.732419             1.015571   0.878205  0.780843   \n",
            "27        0.754445         0.546483             1.020509   2.755512  0.602467   \n",
            "28        0.629686         0.485117             0.619206   0.869521  0.812809   \n",
            "29        0.235920         0.253681             0.197891   0.306347  0.184759   \n",
            "30        1.057836         0.991806             1.647944   1.496108  0.728450   \n",
            "31        1.157251         0.670438             0.828270   1.295868  0.655133   \n",
            "32        0.000000         0.011636             0.000000   1.125335  0.004244   \n",
            "33        0.558345         0.755865             0.813677   0.656043  1.225774   \n",
            "34        1.122645         0.719181             0.692099   0.664145  0.875103   \n",
            "35        1.094130         1.141442             1.016628   0.630114  0.909593   \n",
            "36        0.746825         1.111346             1.586113   0.873780  0.578798   \n",
            "37        0.943834         0.828303             2.520525   1.236881  0.557420   \n",
            "38        0.969031         1.088167             1.066251   1.032507  0.764045   \n",
            "\n",
            "      Colima   Chiapas  ...  Quintana Roo  San Luis Potosi   Sinaloa  \\\n",
            "1   1.495953  3.311177  ...      0.513966         0.117928  6.351123   \n",
            "2   2.489896  1.191284  ...      0.142894         1.206635  0.617988   \n",
            "3   0.000000  0.800589  ...      0.438532         0.641090  0.860388   \n",
            "4   1.614415  0.891796  ...      0.738070         1.045109  1.802092   \n",
            "5   0.454004  0.510838  ...      0.140605         1.417706  0.537932   \n",
            "6   1.152710  0.961933  ...      0.634410         1.026294  1.253479   \n",
            "7   1.064065  1.600188  ...      0.942992         0.935323  1.114319   \n",
            "8   2.834430  0.825125  ...      0.773030         0.780134  1.110623   \n",
            "9   0.391508  0.393468  ...      0.519635         0.342767  0.462466   \n",
            "10  0.339813  0.679046  ...      0.214922         0.285535  0.404616   \n",
            "11  1.535868  0.682727  ...      2.038320         0.929585  1.169909   \n",
            "12  0.860620  0.517728  ...      0.794874         0.859535  1.063635   \n",
            "13  0.000000  0.064087  ...      0.137480         0.008221  0.117431   \n",
            "14  0.597254  0.456112  ...      1.287920         0.768758  0.877834   \n",
            "15  0.990165  0.958854  ...      0.752402         1.071238  0.901300   \n",
            "16  1.374011  1.282136  ...      0.674985         1.005372  1.291221   \n",
            "17  1.128273  0.947535  ...      3.259071         0.852049  1.279436   \n",
            "18  1.508112  1.344645  ...      3.731938         0.871559  1.156803   \n",
            "19  1.324342  1.418692  ...      0.771687         1.001523  1.213539   \n",
            "20  1.536176  2.984397  ...      0.649941         0.123345  6.548704   \n",
            "21  2.598229  1.325226  ...      0.134045         1.294850  0.594066   \n",
            "22  0.762678  0.746343  ...      0.496135         0.000000  0.898997   \n",
            "23  1.965714  1.063192  ...      0.818057         1.293952  1.418061   \n",
            "24  0.468596  0.527115  ...      0.169866         1.270734  0.551345   \n",
            "25  1.000587  1.056170  ...      0.752824         1.077254  1.292775   \n",
            "26  1.100136  1.500568  ...      0.933673         0.990609  1.137392   \n",
            "27  1.721881  0.899650  ...      0.927462         0.748263  1.530501   \n",
            "28  0.561028  0.579671  ...      0.595736         0.429437  0.795906   \n",
            "29  0.292091  0.452292  ...      0.215452         0.306018  0.317387   \n",
            "30  1.261616  0.744037  ...      2.153715         1.197947  1.082884   \n",
            "31  0.813237  0.633994  ...      0.976254         0.803264  0.805144   \n",
            "32  0.000000  0.000000  ...      1.021425         0.000000  2.449592   \n",
            "33  0.882745  0.525236  ...      1.528100         0.670998  0.498990   \n",
            "34  1.058074  0.880936  ...      0.799089         1.036623  0.990973   \n",
            "35  1.179920  1.067335  ...      0.654689         1.111373  1.258835   \n",
            "36  0.780266  1.008570  ...      2.567143         0.901021  1.292729   \n",
            "37  1.539441  1.313183  ...      3.519694         0.971063  1.180483   \n",
            "38  1.295597  1.320020  ...      0.804247         1.067931  1.236705   \n",
            "\n",
            "      Sonora   Tabasco  Tamaulipas  Tlaxcala  Veracruz   Yucatan  Zacatecas  \n",
            "1   4.277021  4.963562    0.037122  0.317313  2.325930  2.928965   0.356393  \n",
            "2   3.600659  6.128427   36.422065  0.000000  1.552327  0.335100   9.429787  \n",
            "3   1.128304  1.263586    0.572231  0.471653  1.941438  0.493188   0.990429  \n",
            "4   1.344020  1.211356    0.071769  0.364903  1.009039  1.745568   1.202686  \n",
            "5   1.228772  0.367147    2.077592  1.502477  0.603658  0.912969   0.930873  \n",
            "6   0.940967  0.981351    1.238362  0.633149  0.986683  0.962456   1.020785  \n",
            "7   0.835097  1.454230    0.366413  1.326311  1.415095  1.042254   1.210904  \n",
            "8   0.642581  1.017664    0.973644  0.434925  1.129533  0.822145   0.512838  \n",
            "9   0.424995  0.859523    1.758237  0.150017  0.429733  0.562374   0.910580  \n",
            "10  0.360122  0.450730    0.034041  0.225294  0.448886  0.562578   0.266608  \n",
            "11  1.001429  1.269988    0.286655  0.895119  0.804552  1.450805   0.793562  \n",
            "12  0.736427  0.794629    0.054454  0.469305  0.618640  0.909342   0.587365  \n",
            "13  0.054974  0.058507    0.000236  0.000000  0.095734  0.112511   0.000000  \n",
            "14  1.043242  0.452860    0.039967  0.486241  0.485380  0.815005   0.505013  \n",
            "15  0.956490  0.951540    0.080850  0.931872  1.137449  1.161300   0.739787  \n",
            "16  1.132013  1.093009    0.162504  0.878794  1.162692  1.084370   1.209008  \n",
            "17  0.893125  0.702100    0.113125  0.919766  0.873797  1.035928   0.913304  \n",
            "18  0.741150  1.200401    0.075842  0.816796  1.279304  1.202809   1.025023  \n",
            "19  0.990109  1.455232    0.086456  1.184651  1.476198  1.019039   1.194756  \n",
            "20  3.364396  4.987134    1.059678  0.314785  2.340662  2.495936   0.247857  \n",
            "21  3.937854  7.950460    0.000000  0.101874  2.073137  0.000000   9.819767  \n",
            "22  0.598303  1.033022    0.928713  0.425924  0.734184  0.000000   0.000000  \n",
            "23  1.594049  1.880552    1.084493  0.800340  1.174676  1.533184   1.429541  \n",
            "24  1.206919  0.411403    1.497480  1.412437  0.664352  0.889576   0.784210  \n",
            "25  1.070762  1.139010    0.791943  0.540796  1.035220  1.008346   1.110854  \n",
            "26  0.839947  1.214693    0.894342  1.314883  1.309125  1.043877   1.293273  \n",
            "27  0.760258  0.961275    1.678678  0.391758  1.196878  0.763182   0.578368  \n",
            "28  0.599028  0.754273    0.605367  0.343683  0.672498  0.861419   0.758869  \n",
            "29  0.315755  0.292047    0.223187  0.190116  0.338127  0.462315   0.218665  \n",
            "30  0.933787  1.954542    0.852302  0.961411  0.868706  1.013120   0.802699  \n",
            "31  0.800020  0.769534    0.609051  0.460151  0.700128  0.769180   0.590305  \n",
            "32  0.150052  0.330829    0.000000  0.000000  0.385978  0.000000   0.000000  \n",
            "33  0.896885  0.606104    0.573833  0.481776  0.487969  1.220680   0.351065  \n",
            "34  0.854669  0.861111    0.973924  0.859745  1.100557  1.191532   0.760073  \n",
            "35  1.083914  0.914706    0.896239  0.834175  1.069538  1.074862   1.226372  \n",
            "36  0.808722  0.663750    0.523109  1.103255  0.872845  1.009614   1.021211  \n",
            "37  0.796029  1.148391    0.756205  0.821057  1.256495  1.107994   1.052677  \n",
            "38  0.988537  1.262081    1.057900  1.192665  1.317447  0.989666   1.247916  \n",
            "\n",
            "[38 rows x 35 columns]\n"
          ]
        }
      ]
    }
  ],
  "metadata": {
    "colab": {
      "provenance": [],
      "include_colab_link": true
    },
    "language_info": {
      "name": "python"
    },
    "kernelspec": {
      "name": "python3",
      "display_name": "Python 3"
    }
  },
  "nbformat": 4,
  "nbformat_minor": 5
}