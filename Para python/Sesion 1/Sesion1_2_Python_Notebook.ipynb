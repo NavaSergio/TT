
# Jupyter Notebook - Adaptación de Sesión 1.2

Este cuaderno adapta el script de R correspondiente a la "Sesión 1.2" al entorno Python.

## Introducción

La sesión 1.2 incluye:
- Cálculo del coeficiente de localización Hoover-Balassa.
- Análisis de especialización regional.

## Librerías necesarias

```python
# Importar librerías necesarias
import pandas as pd
import numpy as np
import matplotlib.pyplot as plt
import seaborn as sns
from scipy.stats import entropy
```

## Cargar los datos

```python
# Cargar archivo Excel
file_path = "Modif base total secre pobocup.xlsx"
data = pd.read_excel(file_path)
print(data.head())
```

## Preprocesamiento

```python
# Preprocesamiento básico
data['Sector'] = data['Sector'].astype('category')
data['No_sector'] = data['No_sector'].astype(str).str.zfill(2)
data.fillna(0, inplace=True)
```

## Cálculo del Coeficiente de Localización

### Convertir datos a formato largo

```python
data_long = pd.melt(data, id_vars=['Año', 'Sector', 'No_sector'], var_name='ENTIDAD', value_name='Pers_ocup')
```

### Función de Localización

```python
def coef_localizacion(pers_ocup, total_sector, total_entidad):
    return pers_ocup / total_sector / (total_entidad / total_entidad.sum())

data_long['coef_local'] = data_long.apply(
    lambda row: coef_localizacion(row['Pers_ocup'], row['Pers_ocup'], row['Pers_ocup']),
    axis=1
)
```

## Guardar Resultados

```python
# Guardar el DataFrame resultante
output_path = "Coeficiente_Localizacion.csv"
data_long.to_csv(output_path, index=False)
print(f"Archivo guardado en: {output_path}")
```

Continúa replicando los cálculos de especialización y gráficos de dispersión del script R.
