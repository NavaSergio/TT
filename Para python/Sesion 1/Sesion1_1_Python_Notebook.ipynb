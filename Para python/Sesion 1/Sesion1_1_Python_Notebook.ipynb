
# Jupyter Notebook - Adaptación de Sesión 1.1

Este cuaderno adapta el script de R correspondiente a la "Sesión 1.1" al entorno Python. 

## Introducción

La sesión 1.1 tiene como objetivo calcular indicadores regionales como:
- Porcentaje de participación estatal y sectorial.
- Coeficiente de localización.

## Librerías necesarias

```python
# Importar librerías necesarias
import pandas as pd
import numpy as np
from pathlib import Path
import openpyxl
import matplotlib.pyplot as plt
import seaborn as sns
```

## Cargar los datos

```python
# Cargar archivo Excel
file_path = "Modif base total secre pobocup.xlsx"
data = pd.read_excel(file_path)
print(data.head())
```

## Preprocesamiento de datos

```python
# Convertir columnas específicas a tipo categórico
data['Año'] = data['Año'].astype('category')
data['Sector'] = data['Sector'].astype('category')

# Completar valores NA con ceros
data.fillna(0, inplace=True)

# Filtrar filas por condiciones específicas
data_est = data[data['No_sector'] != '01']
data_tot_est = data[data['No_sector'] == '01']

# Filtrado para totales sectoriales
data_tot_sect = data[['Año', 'Sector', 'No_sector', 'TOTAL SECTORIAL']]
```

## Análisis

### Porcentaje de Participación Estatal
```python
# Calcular porcentaje estatal
data_long = pd.melt(data_est, id_vars=['Año', 'Sector', 'No_sector'], var_name='CVE_ENT', value_name='Pers_ocup')
data_long['share_est'] = data_long.groupby(['Año', 'Sector'])['Pers_ocup'].transform(lambda x: round(100 * x / x.sum(), 2))

# Verificar que las participaciones sumen 100
verification = data_long.groupby(['Año', 'Sector'])['share_est'].sum()
print("Verificación de sumas (debería aproximar a 100):")
print(verification.head())
```

### Guardar Resultados
```python
# Guardar resultados
output_path = Path("Participacion_estatal.csv")
data_long.to_csv(output_path, index=False)
print(f"Archivo guardado en: {output_path}")
```

Continúa el proceso replicando cada paso del script R.
